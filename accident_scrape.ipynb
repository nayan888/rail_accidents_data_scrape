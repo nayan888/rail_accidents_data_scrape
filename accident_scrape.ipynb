{
 "cells": [
  {
   "cell_type": "markdown",
   "metadata": {},
   "source": [
    "# 1.Imports the Necessary Pakage"
   ]
  },
  {
   "cell_type": "code",
   "execution_count": 70,
   "metadata": {},
   "outputs": [],
   "source": [
    "from urllib.request import urlopen\n",
    "from bs4 import BeautifulSoup\n",
    "import pandas as pd"
   ]
  },
  {
   "cell_type": "markdown",
   "metadata": {},
   "source": [
    "# 2.Create some useful functions"
   ]
  },
  {
   "cell_type": "code",
   "execution_count": 71,
   "metadata": {},
   "outputs": [],
   "source": [
    "def get_soup(url):\n",
    "    \"\"\"Takes a url and returns a BeautifulSoup object of the contents of url\"\"\"\n",
    "    \n",
    "    res = urlopen(url)\n",
    "    return BeautifulSoup(res)"
   ]
  },
  {
   "cell_type": "code",
   "execution_count": 72,
   "metadata": {},
   "outputs": [],
   "source": [
    "def get_events(bs):\n",
    "    \"\"\"Takes a BeautifulSoup object and returns a list of accidents\"\"\"\n",
    "    \n",
    "    ul_list = bs.select_one('.mw-parser-output').find_all('ul', recursive=False)\n",
    "    events = []\n",
    "    for ul in ul_list[:-3]:\n",
    "        events.extend(ul.find_all('li'))\n",
    "    return [event.text.split('–', maxsplit=2) for event in events]"
   ]
  },
  {
   "cell_type": "markdown",
   "metadata": {},
   "source": [
    "# 3.Retrive the wikipedia page and store data in a dataframe"
   ]
  },
  {
   "cell_type": "code",
   "execution_count": 74,
   "metadata": {},
   "outputs": [
    {
     "data": {
      "text/html": [
       "<div>\n",
       "<style scoped>\n",
       "    .dataframe tbody tr th:only-of-type {\n",
       "        vertical-align: middle;\n",
       "    }\n",
       "\n",
       "    .dataframe tbody tr th {\n",
       "        vertical-align: top;\n",
       "    }\n",
       "\n",
       "    .dataframe thead th {\n",
       "        text-align: right;\n",
       "    }\n",
       "</style>\n",
       "<table border=\"1\" class=\"dataframe\">\n",
       "  <thead>\n",
       "    <tr style=\"text-align: right;\">\n",
       "      <th></th>\n",
       "      <th>Date</th>\n",
       "      <th>Country</th>\n",
       "      <th>Description</th>\n",
       "    </tr>\n",
       "  </thead>\n",
       "  <tbody>\n",
       "    <tr>\n",
       "      <th>0</th>\n",
       "      <td>February 16, 1980</td>\n",
       "      <td>United Kingdom</td>\n",
       "      <td>An express passenger train is derailed at Bus...</td>\n",
       "    </tr>\n",
       "    <tr>\n",
       "      <th>1</th>\n",
       "      <td>April 2, 1980</td>\n",
       "      <td>United States</td>\n",
       "      <td>Lakeview, North Carolina: Amtrak's Silver Sta...</td>\n",
       "    </tr>\n",
       "    <tr>\n",
       "      <th>2</th>\n",
       "      <td>April 9, 1980</td>\n",
       "      <td>United States</td>\n",
       "      <td>Western Pacific Railroad Company westbound fr...</td>\n",
       "    </tr>\n",
       "    <tr>\n",
       "      <th>3</th>\n",
       "      <td>May 22, 1980</td>\n",
       "      <td>United Kingdom</td>\n",
       "      <td>A sleeper train is derailed at Prestonpans, L...</td>\n",
       "    </tr>\n",
       "    <tr>\n",
       "      <th>4</th>\n",
       "      <td>July 9, 1980</td>\n",
       "      <td>United States</td>\n",
       "      <td>Amtrak passenger train 225 was struck by a 15...</td>\n",
       "    </tr>\n",
       "  </tbody>\n",
       "</table>\n",
       "</div>"
      ],
      "text/plain": [
       "                 Date           Country  \\\n",
       "0  February 16, 1980    United Kingdom    \n",
       "1      April 2, 1980     United States    \n",
       "2      April 9, 1980     United States    \n",
       "3       May 22, 1980    United Kingdom    \n",
       "4       July 9, 1980     United States    \n",
       "\n",
       "                                         Description  \n",
       "0   An express passenger train is derailed at Bus...  \n",
       "1   Lakeview, North Carolina: Amtrak's Silver Sta...  \n",
       "2   Western Pacific Railroad Company westbound fr...  \n",
       "3   A sleeper train is derailed at Prestonpans, L...  \n",
       "4   Amtrak passenger train 225 was struck by a 15...  "
      ]
     },
     "execution_count": 74,
     "metadata": {},
     "output_type": "execute_result"
    }
   ],
   "source": [
    "url = 'https://en.wikipedia.org/wiki/List_of_rail_accidents_(1980%E2%80%931989)'\n",
    "bs = get_soup(url)\n",
    "accidents = pd.DataFrame(get_events(bs), columns = ['Date', 'Country', 'Description'])\n",
    "accidents.head()"
   ]
  },
  {
   "cell_type": "markdown",
   "metadata": {},
   "source": [
    "# 4.Save data in a excel file"
   ]
  },
  {
   "cell_type": "code",
   "execution_count": 75,
   "metadata": {},
   "outputs": [],
   "source": [
    "accidents.to_excel('rail_accidents.xlsx')"
   ]
  },
  {
   "cell_type": "code",
   "execution_count": null,
   "metadata": {},
   "outputs": [],
   "source": []
  },
  {
   "cell_type": "code",
   "execution_count": null,
   "metadata": {},
   "outputs": [],
   "source": []
  }
 ],
 "metadata": {
  "kernelspec": {
   "display_name": "Python 3",
   "language": "python",
   "name": "python3"
  },
  "language_info": {
   "codemirror_mode": {
    "name": "ipython",
    "version": 3
   },
   "file_extension": ".py",
   "mimetype": "text/x-python",
   "name": "python",
   "nbconvert_exporter": "python",
   "pygments_lexer": "ipython3",
   "version": "3.7.6"
  }
 },
 "nbformat": 4,
 "nbformat_minor": 4
}
